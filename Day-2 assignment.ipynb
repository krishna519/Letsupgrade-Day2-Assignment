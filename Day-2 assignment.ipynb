{
 "cells": [
  {
   "cell_type": "markdown",
   "metadata": {},
   "source": [
    "# Assignment-1"
   ]
  },
  {
   "cell_type": "code",
   "execution_count": 15,
   "metadata": {},
   "outputs": [
    {
     "name": "stdout",
     "output_type": "stream",
     "text": [
      "Enter the number:5\n",
      "result is 41.2\n"
     ]
    }
   ],
   "source": [
    "x = int(input(\"Enter the number:\"))\n",
    "y = 2*x+5/x**2+5*x+6\n",
    "print(\"result is\",y)"
   ]
  },
  {
   "cell_type": "code",
   "execution_count": 24,
   "metadata": {},
   "outputs": [
    {
     "name": "stdout",
     "output_type": "stream",
     "text": [
      "Enter the number:5\n",
      "Result is 70.0\n"
     ]
    }
   ],
   "source": [
    "x = int(input(\"Enter the number:\"))\n",
    "y = x**2+5*x+6/2*x+5\n",
    "print(\"Result is\",y)"
   ]
  },
  {
   "cell_type": "code",
   "execution_count": 19,
   "metadata": {},
   "outputs": [
    {
     "name": "stdout",
     "output_type": "stream",
     "text": [
      "Enter the number:5\n",
      "result is 98\n"
     ]
    }
   ],
   "source": [
    "x = int(input(\"Enter the number:\"))\n",
    "y = (2*x-3)*(x+9)\n",
    "print(\"result is\",y)"
   ]
  },
  {
   "cell_type": "code",
   "execution_count": null,
   "metadata": {},
   "outputs": [],
   "source": [
    "## 2 question (create username and password)"
   ]
  },
  {
   "cell_type": "code",
   "execution_count": 31,
   "metadata": {},
   "outputs": [
    {
     "name": "stdout",
     "output_type": "stream",
     "text": [
      "Enter the Correct Username and Password\n",
      "Enter the usernameINDIA\n",
      "Enter the passwordIND\n",
      "Congratulations You have Logged in\n",
      "Enter the usernameINDIA\n",
      "Enter the passwordIND\n",
      "Congratulations You have Logged in\n",
      "Enter the usernameINDIA\n",
      "Enter the passwordLKJ\n",
      "Incorrect password try again\n",
      "Enter the usernameINDIA\n",
      "Enter the passwordlkjh\n",
      "Incorrect password try again\n",
      "Enter the usernameINDIA\n",
      "Enter the passwordlkjh\n",
      "Incorrect password try again\n",
      "Account has Blocked\n"
     ]
    }
   ],
   "source": [
    "print(\"Enter the Correct Username and Password\")\n",
    "count=0\n",
    "if count == 4:\n",
    "    print(\"Account is Block\")\n",
    "while count<5:\n",
    "    username = input(\"Enter the username\")\n",
    "    password = input(\"Enter the password\")\n",
    "    if username == 'INDIA':\n",
    "        if password == 'IND':\n",
    "            print(\"Congratulations You have Logged in\")\n",
    "        else:\n",
    "            print(\"Incorrect password try again\")\n",
    "        count +=1\n",
    "        if count == 5:\n",
    "            print(\"Account has Blocked\")"
   ]
  },
  {
   "cell_type": "code",
   "execution_count": null,
   "metadata": {},
   "outputs": [],
   "source": []
  }
 ],
 "metadata": {
  "kernelspec": {
   "display_name": "Python 3",
   "language": "python",
   "name": "python3"
  },
  "language_info": {
   "codemirror_mode": {
    "name": "ipython",
    "version": 3
   },
   "file_extension": ".py",
   "mimetype": "text/x-python",
   "name": "python",
   "nbconvert_exporter": "python",
   "pygments_lexer": "ipython3",
   "version": "3.8.5"
  }
 },
 "nbformat": 4,
 "nbformat_minor": 4
}
